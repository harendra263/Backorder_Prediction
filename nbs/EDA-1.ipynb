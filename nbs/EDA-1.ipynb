{
 "cells": [
  {
   "cell_type": "code",
   "execution_count": null,
   "metadata": {},
   "outputs": [],
   "source": [
    "import pandas as pd\n",
    "import numpy as np\n",
    "import matplotlib.pyplot as plt\n",
    "import seaborn as sns\n",
    "\n",
    "pd.set_option(\"display.max_columns\", 50)"
   ]
  },
  {
   "cell_type": "code",
   "execution_count": null,
   "metadata": {},
   "outputs": [],
   "source": [
    "merged = pd.read_csv(\"data/merged.csv\")"
   ]
  },
  {
   "attachments": {},
   "cell_type": "markdown",
   "metadata": {},
   "source": [
    "## CHECK FOR MISSING VALUES"
   ]
  },
  {
   "cell_type": "code",
   "execution_count": null,
   "metadata": {},
   "outputs": [],
   "source": [
    "merged.isnull().sum()\n",
    "missing_values_df = pd.DataFrame(columns=['MissingVal%'], index=merged.columns)\n",
    "for col in merged.columns:\n",
    "    missing_values_df.loc[col, 'MissingVal%'] = np.ceil((merged[col].isnull().sum()/merged.shape[0]) * 100)\n",
    "\n",
    "missing_values_df"
   ]
  },
  {
   "attachments": {},
   "cell_type": "markdown",
   "metadata": {},
   "source": [
    "## CHECKING FOR DATA TYPES"
   ]
  },
  {
   "cell_type": "code",
   "execution_count": null,
   "metadata": {},
   "outputs": [],
   "source": [
    "merged.info()"
   ]
  },
  {
   "cell_type": "code",
   "execution_count": null,
   "metadata": {},
   "outputs": [],
   "source": [
    "#remove the two rows of all NA's\n",
    "merged=merged[pd.notnull(merged['national_inv'])]"
   ]
  },
  {
   "cell_type": "code",
   "execution_count": null,
   "metadata": {},
   "outputs": [],
   "source": [
    "quantvars = merged.select_dtypes(include=['float64']).columns.to_list()\n",
    "\n",
    "cat_cols = merged.select_dtypes(include='object').columns.to_list()\n",
    "cat_cols.remove('sku')\n",
    "for category in cat_cols:\n",
    "    print(f'👉 {category} has {merged[category].nunique()} values')\n",
    "\n",
    "catpred = cat_cols.remove('went_on_backorder')"
   ]
  },
  {
   "attachments": {},
   "cell_type": "markdown",
   "metadata": {},
   "source": [
    "### Encoding Category columns"
   ]
  },
  {
   "cell_type": "code",
   "execution_count": null,
   "metadata": {},
   "outputs": [],
   "source": [
    "for category in cat_cols:\n",
    "    merged[category] = merged[category].astype('category').cat.codes"
   ]
  },
  {
   "cell_type": "code",
   "execution_count": null,
   "metadata": {},
   "outputs": [],
   "source": [
    "merged['perf_12_month_avg'] = merged['perf_12_month_avg'].replace(-99, np.NaN)\n",
    "merged['perf_6_month_avg'] = merged['perf_6_month_avg'].replace(-99, np.NaN)\n",
    "\n",
    "merged.head(5)"
   ]
  },
  {
   "attachments": {},
   "cell_type": "markdown",
   "metadata": {},
   "source": [
    "### DESCRIPTIVE STATISTICS AND PLOT"
   ]
  },
  {
   "cell_type": "code",
   "execution_count": null,
   "metadata": {},
   "outputs": [],
   "source": [
    "merged[quantvars].describe().transpose()"
   ]
  },
  {
   "cell_type": "code",
   "execution_count": null,
   "metadata": {},
   "outputs": [],
   "source": [
    "fig, axs= plt.subplots(3, 3, figsize = (15, 6))\n",
    "sns.scatterplot(x=merged.forecast_3_month, y=merged.sales_3_month, ax=axs[0, 0])\n",
    "sns.scatterplot(x=merged.forecast_6_month, y=merged.sales_6_month, ax=axs[0, 1])\n",
    "sns.scatterplot(x=merged.forecast_9_month, y=merged.sales_9_month, ax=axs[0, 2])\n",
    "sns.scatterplot(x=merged.national_inv, y=merged.sales_1_month, ax=axs[1, 0])\n",
    "sns.scatterplot(x=merged.national_inv, y=merged.sales_3_month, ax=axs[1, 1])\n",
    "sns.scatterplot(x=merged.national_inv, y=merged.sales_6_month, ax=axs[1, 2])\n",
    "sns.scatterplot(x=merged.national_inv, y=merged.sales_9_month, ax=axs[2, 0])\n",
    "sns.scatterplot(x=merged.in_transit_qty, y=merged.national_inv, ax=axs[2, 1])\n",
    "sns.scatterplot(x=merged.in_transit_qty, y=merged.lead_time, ax=axs[2, 2])\n",
    "\n",
    "plt.savefig(\"../images/Scatter_plot_for_sales.png\")"
   ]
  },
  {
   "cell_type": "code",
   "execution_count": null,
   "metadata": {},
   "outputs": [],
   "source": [
    "n_columns = 3\n",
    "n_rows = 5\n",
    "_, axs = plt.subplots(n_rows, n_columns, figsize=(8 * n_columns, 5 * n_rows))\n",
    "for i, c in enumerate(quantvars):\n",
    "    sns.boxplot(y= c, data= merged, ax= axs[i // n_columns, i % n_columns])\n",
    "\n",
    "plt.title(\"Boxplot with Quantitative Columns\")\n",
    "plt.tight_layout()\n",
    "plt.show()\n",
    "\n",
    "plt.savefig(\"../images/Boxplot_quant_cols.png\")"
   ]
  },
  {
   "cell_type": "code",
   "execution_count": null,
   "metadata": {},
   "outputs": [],
   "source": [
    "catpred = cat_cols\n",
    "catpred"
   ]
  },
  {
   "cell_type": "code",
   "execution_count": null,
   "metadata": {},
   "outputs": [],
   "source": [
    "fig, axs = plt.subplots(3, 2, figsize = (10, 5))\n",
    "# plt.subplots_adjust(hspace=0.1, wspace=0.4)\n",
    "pd.crosstab(merged.stop_auto_buy, merged.went_on_backorder).plot(kind='bar', ax=axs[0, 0], title=\"Stop Auto Buy\")\n",
    "pd.crosstab(merged.potential_issue, merged.went_on_backorder).plot(kind='bar', ax=axs[0, 1], title=\"Potential Issue\")\n",
    "pd.crosstab(merged.oe_constraint, merged.went_on_backorder).plot(kind='bar', ax=axs[1, 0], title=\"OE Constraint\")\n",
    "pd.crosstab(merged.rev_stop, merged.went_on_backorder).plot(kind='bar', ax=axs[1, 1], title=\"Rev Stop\")\n",
    "pd.crosstab(merged.ppap_risk, merged.went_on_backorder).plot(kind='bar', ax=axs[2, 0], title=\"PPAP Risk\")\n",
    "pd.crosstab(merged.deck_risk, merged.went_on_backorder).plot(kind='bar', ax=axs[2, 1], title=\"Deck Risk\")\n",
    "plt.savefig(\"../images/Categories_with_targets.png\")"
   ]
  },
  {
   "attachments": {},
   "cell_type": "markdown",
   "metadata": {},
   "source": [
    "### Correlation Plot"
   ]
  }
 ],
 "metadata": {
  "language_info": {
   "name": "python"
  },
  "orig_nbformat": 4
 },
 "nbformat": 4,
 "nbformat_minor": 2
}
